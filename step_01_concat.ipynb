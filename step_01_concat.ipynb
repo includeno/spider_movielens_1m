{
 "cells": [
  {
   "cell_type": "code",
   "execution_count": 1,
   "metadata": {},
   "outputs": [],
   "source": [
    "import pandas as pd\n",
    "import numpy as np"
   ]
  },
  {
   "attachments": {},
   "cell_type": "markdown",
   "metadata": {},
   "source": [
    "# 列表文件合并"
   ]
  },
  {
   "cell_type": "code",
   "execution_count": 3,
   "metadata": {},
   "outputs": [],
   "source": [
    "# concat\n",
    "df1=pd.read_csv('input/output_0.csv',encoding='utf-8')\n",
    "df2=pd.read_csv('input/output_1.csv',encoding='utf-8')\n",
    "df3=pd.read_csv('input/output_2.csv',encoding='utf-8')\n",
    "df4=pd.read_csv('input/output_3.csv',encoding='utf-8')\n",
    "df5=pd.read_csv('input/output_4.csv',encoding='utf-8')\n",
    "df6=pd.read_csv('input/output_5.csv',encoding='utf-8')\n",
    "\n",
    "df=pd.concat([df1,df2,df3,df4,df5,df6],axis=0,ignore_index=True)\n",
    "df.drop_duplicates(subset=['url'],keep='last',inplace=True)\n",
    "df.to_csv('data/input.csv',index=False,encoding='utf-8')\n"
   ]
  },
  {
   "attachments": {},
   "cell_type": "markdown",
   "metadata": {},
   "source": [
    "# 原数据分割"
   ]
  },
  {
   "cell_type": "code",
   "execution_count": 2,
   "metadata": {},
   "outputs": [],
   "source": [
    "# split\n",
    "df=pd.read_csv('data/input.csv',encoding='utf-8')\n",
    "df.rename(columns={'time':'create_time'},inplace=True)\n",
    "dfs = np.array_split(df, 10)\n",
    "for i in range(len(dfs)):\n",
    "    dfs[i].to_csv('data/input_'+str(i)+'.csv',index=False,encoding='utf-8')\n"
   ]
  },
  {
   "cell_type": "code",
   "execution_count": 11,
   "metadata": {},
   "outputs": [
    {
     "name": "stdout",
     "output_type": "stream",
     "text": [
      "<Response [200]>\n"
     ]
    }
   ],
   "source": [
    "import requests\n",
    "\n",
    "github_releases = 'https://github.com/includeno/spider_movielens_1m/tags'\n",
    "response=requests.get(github_releases)\n",
    "print(response)"
   ]
  },
  {
   "cell_type": "code",
   "execution_count": 9,
   "metadata": {},
   "outputs": [
    {
     "name": "stdout",
     "output_type": "stream",
     "text": [
      "https://github.com/includeno/spider_movielens_1m/releases/download/movielens-1m-detail-5-20230314053414/movielens-1m-detail-5-production.zip\n"
     ]
    }
   ],
   "source": [
    "# 设置GitHub仓库和认证令牌\n",
    "owner = 'includeno'\n",
    "repo = 'spider_movielens_1m'\n",
    "auth_token = 'token'\n",
    "download_token='token'\n",
    "\n",
    "# 发出GET请求，获取最新release信息\n",
    "url = f'https://api.github.com/repos/{owner}/{repo}/releases/latest'\n",
    "headers = {'Authorization': f'token {auth_token}'}\n",
    "response = requests.get(url, headers=headers)\n",
    "response_json = response.json()\n",
    "\n",
    "# 从JSON响应中提取第一个资产的URL\n",
    "asset_url = response_json['assets'][0]['browser_download_url']\n",
    "print(asset_url)\n",
    "\n",
    "# 下载资产并保存到本地文件\n",
    "# filename = 'asset_name.ext'\n",
    "# response = requests.get(asset_url, headers=headers)\n",
    "# with open(filename, 'wb') as f:\n",
    "#     f.write(response.content)"
   ]
  },
  {
   "attachments": {},
   "cell_type": "markdown",
   "metadata": {},
   "source": [
    "# 获取所有Release ID"
   ]
  },
  {
   "cell_type": "code",
   "execution_count": 10,
   "metadata": {},
   "outputs": [
    {
     "name": "stdout",
     "output_type": "stream",
     "text": [
      "[95498678, 95498664, 95498684, 95498841, 95498971, 95498654, 95430067, 95430285, 95430012, 95429878, 95429976, 95430098]\n"
     ]
    }
   ],
   "source": [
    "import requests\n",
    "import json\n",
    "\n",
    "# 你要获取ID的仓库的owner和repo名称\n",
    "owner = 'includeno'\n",
    "repo = 'spider_movielens_1m'\n",
    "\n",
    "# 构造API请求URL\n",
    "url = f'https://api.github.com/repos/{owner}/{repo}/releases'\n",
    "\n",
    "# 发起API请求\n",
    "response = requests.get(url)\n",
    "\n",
    "# 解析返回的JSON数据\n",
    "releases = json.loads(response.text)\n",
    "\n",
    "# 提取所有Release ID\n",
    "ids = [release['id'] for release in releases]\n",
    "\n",
    "print(ids)\n"
   ]
  },
  {
   "attachments": {},
   "cell_type": "markdown",
   "metadata": {},
   "source": [
    "# 下载所有Release 的文件"
   ]
  },
  {
   "cell_type": "code",
   "execution_count": null,
   "metadata": {},
   "outputs": [],
   "source": [
    "import requests\n",
    "import os\n",
    "\n",
    "# Replace with your GitHub username and repository name\n",
    "username = \"includeno\"\n",
    "repo_name = \"spider_movielens_1m\"\n",
    "release_id = \"your_release_id\"\n",
    "auth_token = \"your_auth_token\"\n",
    "\n",
    "# Create headers with authorization token\n",
    "headers = {\"Authorization\": f\"Bearer {auth_token}\"}\n",
    "\n",
    "# Get release details\n",
    "url = f\"https://api.github.com/repos/{username}/{repo_name}/releases/{release_id}\"\n",
    "response = requests.get(url, headers=headers)\n",
    "release = response.json()\n",
    "\n",
    "# Loop through assets and download each one\n",
    "for asset in release[\"assets\"]:\n",
    "    # Create download URL\n",
    "    download_url = asset[\"url\"] + \"?access_token=\" + auth_token\n",
    "\n",
    "    # Create file path and directory if needed\n",
    "    file_path = os.path.join(os.getcwd(), asset[\"name\"])\n",
    "\n",
    "    # Download file\n",
    "    with open(file_path, \"wb\") as f:\n",
    "        response = requests.get(download_url)\n",
    "        f.write(response.content)\n"
   ]
  }
 ],
 "metadata": {
  "kernelspec": {
   "display_name": "base",
   "language": "python",
   "name": "python3"
  },
  "language_info": {
   "codemirror_mode": {
    "name": "ipython",
    "version": 3
   },
   "file_extension": ".py",
   "mimetype": "text/x-python",
   "name": "python",
   "nbconvert_exporter": "python",
   "pygments_lexer": "ipython3",
   "version": "3.9.7"
  },
  "orig_nbformat": 4
 },
 "nbformat": 4,
 "nbformat_minor": 2
}
