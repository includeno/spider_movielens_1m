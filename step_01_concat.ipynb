{
 "cells": [
  {
   "cell_type": "code",
   "execution_count": 2,
   "metadata": {},
   "outputs": [],
   "source": [
    "import pandas as pd\n",
    "import numpy as np"
   ]
  },
  {
   "cell_type": "code",
   "execution_count": 3,
   "metadata": {},
   "outputs": [],
   "source": [
    "# concat\n",
    "df1=pd.read_csv('input/output_0.csv',encoding='utf-8')\n",
    "df2=pd.read_csv('input/output_1.csv',encoding='utf-8')\n",
    "df3=pd.read_csv('input/output_2.csv',encoding='utf-8')\n",
    "df4=pd.read_csv('input/output_3.csv',encoding='utf-8')\n",
    "df5=pd.read_csv('input/output_4.csv',encoding='utf-8')\n",
    "df6=pd.read_csv('input/output_5.csv',encoding='utf-8')\n",
    "\n",
    "df=pd.concat([df1,df2,df3,df4,df5,df6],axis=0,ignore_index=True)\n",
    "df.drop_duplicates(subset=['url'],keep='last',inplace=True)\n",
    "df.to_csv('data/input.csv',index=False,encoding='utf-8')\n"
   ]
  },
  {
   "cell_type": "code",
   "execution_count": 4,
   "metadata": {},
   "outputs": [],
   "source": [
    "# split\n",
    "df=pd.read_csv('data/input.csv',encoding='utf-8')\n",
    "df.rename(columns={'time':'create_time'},inplace=True)\n",
    "dfs = np.array_split(df, 6)\n",
    "for i in range(len(dfs)):\n",
    "    dfs[i].to_csv('data/input_'+str(i)+'.csv',index=False,encoding='utf-8')\n"
   ]
  }
 ],
 "metadata": {
  "kernelspec": {
   "display_name": "base",
   "language": "python",
   "name": "python3"
  },
  "language_info": {
   "codemirror_mode": {
    "name": "ipython",
    "version": 3
   },
   "file_extension": ".py",
   "mimetype": "text/x-python",
   "name": "python",
   "nbconvert_exporter": "python",
   "pygments_lexer": "ipython3",
   "version": "3.9.7"
  },
  "orig_nbformat": 4
 },
 "nbformat": 4,
 "nbformat_minor": 2
}
