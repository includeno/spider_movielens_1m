{
 "cells": [
  {
   "attachments": {},
   "cell_type": "markdown",
   "metadata": {},
   "source": [
    "# 下载指定仓库的Release"
   ]
  },
  {
   "cell_type": "code",
   "execution_count": 3,
   "metadata": {},
   "outputs": [
    {
     "name": "stdout",
     "output_type": "stream",
     "text": [
      "Downloading assets for release: GitRelease(title=\"movielens-1m-detail-5-20230314053414\")\n",
      "asset.name movielens-1m-detail-5-production.zip\n",
      "Downloading https://github.com/includeno/spider_movielens_1m/releases/download/movielens-1m-detail-5-20230314053414/movielens-1m-detail-5-production.zip to ./download/movielens-1m-detail-5-production.zip\n",
      "Downloading assets for release: GitRelease(title=\"movielens-1m-detail-4-20230314053416\")\n",
      "asset.name movielens-1m-detail-4-production.zip\n",
      "Downloading https://github.com/includeno/spider_movielens_1m/releases/download/movielens-1m-detail-4-20230314053416/movielens-1m-detail-4-production.zip to ./download/movielens-1m-detail-4-production.zip\n",
      "Downloading assets for release: GitRelease(title=\"movielens-1m-detail-3-20230314053424\")\n",
      "asset.name movielens-1m-detail-3-production.zip\n",
      "Downloading https://github.com/includeno/spider_movielens_1m/releases/download/movielens-1m-detail-3-20230314053424/movielens-1m-detail-3-production.zip to ./download/movielens-1m-detail-3-production.zip\n",
      "Downloading assets for release: GitRelease(title=\"movielens-1m-detail-2-20230314053417\")\n",
      "asset.name movielens-1m-detail-2-production.zip\n",
      "Downloading https://github.com/includeno/spider_movielens_1m/releases/download/movielens-1m-detail-2-20230314053417/movielens-1m-detail-2-production.zip to ./download/movielens-1m-detail-2-production.zip\n",
      "Downloading assets for release: GitRelease(title=\"movielens-1m-detail-1-20230314053423\")\n",
      "asset.name movielens-1m-detail-1-production.zip\n",
      "Downloading https://github.com/includeno/spider_movielens_1m/releases/download/movielens-1m-detail-1-20230314053423/movielens-1m-detail-1-production.zip to ./download/movielens-1m-detail-1-production.zip\n",
      "Downloading assets for release: GitRelease(title=\"movielens-1m-detail-0-20230314053415\")\n",
      "asset.name movielens-1m-detail-0-production.zip\n",
      "Downloading https://github.com/includeno/spider_movielens_1m/releases/download/movielens-1m-detail-0-20230314053415/movielens-1m-detail-0-production.zip to ./download/movielens-1m-detail-0-production.zip\n",
      "Downloading assets for release: GitRelease(title=\"movielens-1m-5-20230313170047\")\n",
      "Downloading assets for release: GitRelease(title=\"movielens-1m-4-20230313170049\")\n",
      "Downloading assets for release: GitRelease(title=\"movielens-1m-3-20230313170043\")\n",
      "Downloading assets for release: GitRelease(title=\"movielens-1m-2-20230313170045\")\n",
      "Downloading assets for release: GitRelease(title=\"movielens-1m-1-20230313170048\")\n",
      "Downloading assets for release: GitRelease(title=\"movielens-1m-0-20230313170052\")\n"
     ]
    }
   ],
   "source": [
    "from github import Github\n",
    "import os\n",
    "import requests\n",
    "\n",
    "def download_release_assets(username, repo_name, release_id, auth_token=None, asset_dir=\"./download/\"):\n",
    "    \"\"\"\n",
    "    下载指定 release ID 下的所有文件\n",
    "\n",
    "    :param username: GitHub 用户名\n",
    "    :param repo_name: GitHub 仓库名\n",
    "    :param release_id: release ID\n",
    "    :param auth_token: GitHub Auth Token (默认为 None)\n",
    "    :param asset_dir: 下载的文件存储目录 (默认为当前目录 \".\")\n",
    "    :return: None\n",
    "    \"\"\"\n",
    "    # 配置 GitHub Auth Token\n",
    "    if auth_token is not None:\n",
    "        g = Github(auth_token)\n",
    "    else:\n",
    "        g = Github()\n",
    "\n",
    "    # 获取 GitHub 仓库\n",
    "    repo = g.get_repo(f\"{username}/{repo_name}\")\n",
    "\n",
    "    # 获取 release\n",
    "    release = repo.get_release(release_id)\n",
    "\n",
    "    # 下载 release 中的所有文件\n",
    "    for asset in release.get_assets():\n",
    "        download_url = asset.browser_download_url\n",
    "        filename = os.path.join(asset_dir, asset.name)\n",
    "        if(asset.name.startswith('movielens-1m-detail')):\n",
    "            print(\"asset.name\",asset.name)\n",
    "            print(f\"Downloading {download_url} to {filename}\")\n",
    "            response = requests.get(download_url, allow_redirects=True)\n",
    "            with open(filename, \"wb\") as f:\n",
    "                f.write(response.content)\n",
    "\n",
    "def main():\n",
    "    username = \"includeno\"\n",
    "    repo_name = \"spider_movielens_1m\"\n",
    "    auth_token = \"\"\n",
    "    with open('AUTH_TOKEN','r') as f:\n",
    "        auth_token = f.read().strip()\n",
    "    \n",
    "\n",
    "    # 获取 GitHub 仓库\n",
    "    g = Github(auth_token)\n",
    "    repo = g.get_repo(f\"{username}/{repo_name}\")\n",
    "\n",
    "    # 获取仓库的所有 release\n",
    "    releases = repo.get_releases()\n",
    "\n",
    "    # 下载每个 release 中的所有文件\n",
    "    for release in releases:\n",
    "        print(f\"Downloading assets for release: {release}\")\n",
    "        download_release_assets(username, repo_name, release.id, auth_token=auth_token)\n",
    "\n",
    "if __name__ == '__main__':\n",
    "    main()\n"
   ]
  }
 ],
 "metadata": {
  "kernelspec": {
   "display_name": "base",
   "language": "python",
   "name": "python3"
  },
  "language_info": {
   "codemirror_mode": {
    "name": "ipython",
    "version": 3
   },
   "file_extension": ".py",
   "mimetype": "text/x-python",
   "name": "python",
   "nbconvert_exporter": "python",
   "pygments_lexer": "ipython3",
   "version": "3.9.7"
  },
  "orig_nbformat": 4
 },
 "nbformat": 4,
 "nbformat_minor": 2
}
